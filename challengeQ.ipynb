{
 "cells": [
  {
   "cell_type": "markdown",
   "id": "0ef41bd8",
   "metadata": {},
   "source": [
    "Write a python program to sort the list of heterogenous data."
   ]
  },
  {
   "cell_type": "code",
   "execution_count": 3,
   "id": "7ace2fe3",
   "metadata": {},
   "outputs": [],
   "source": [
    "L=['Ram', 1, 'Shyam', 2, 'Aman', 3]"
   ]
  },
  {
   "cell_type": "code",
   "execution_count": 4,
   "id": "ea817a28",
   "metadata": {},
   "outputs": [
    {
     "name": "stdout",
     "output_type": "stream",
     "text": [
      "[('Aman', 3), ('Ram', 1), ('Shyam', 2)]\n"
     ]
    }
   ],
   "source": [
    "pairs = list(zip(L[::2], L[1::2]))\n",
    "pairs.sort()\n",
    "print(pairs)"
   ]
  },
  {
   "cell_type": "code",
   "execution_count": 9,
   "id": "a0801da2",
   "metadata": {},
   "outputs": [
    {
     "name": "stdout",
     "output_type": "stream",
     "text": [
      "[1, 2, 3, 'Aman', 'Ram', 'Shyam']\n"
     ]
    }
   ],
   "source": [
    "numbers = sorted([x for x in L if isinstance(x, int)])\n",
    "strings = sorted([x for x in L if isinstance(x, str)])\n",
    "\n",
    "L_sorted = numbers + strings\n",
    "\n",
    "print(L_sorted)\n"
   ]
  },
  {
   "cell_type": "code",
   "execution_count": 8,
   "id": "27806fec",
   "metadata": {},
   "outputs": [
    {
     "name": "stdout",
     "output_type": "stream",
     "text": [
      "[1, 2, 3, 'Ram', 'Shyam', 'Aman']\n"
     ]
    }
   ],
   "source": [
    "L1 = []\n",
    "L2 = []\n",
    "\n",
    "for l in L:\n",
    "    try:\n",
    "        L1.append(int(l))\n",
    "    except:\n",
    "        L2.append(l)\n",
    "\n",
    "L3 = L1 + L2\n",
    "print(L3)"
   ]
  }
 ],
 "metadata": {
  "kernelspec": {
   "display_name": "mlworkshop",
   "language": "python",
   "name": "python3"
  },
  "language_info": {
   "codemirror_mode": {
    "name": "ipython",
    "version": 3
   },
   "file_extension": ".py",
   "mimetype": "text/x-python",
   "name": "python",
   "nbconvert_exporter": "python",
   "pygments_lexer": "ipython3",
   "version": "3.12.11"
  }
 },
 "nbformat": 4,
 "nbformat_minor": 5
}
