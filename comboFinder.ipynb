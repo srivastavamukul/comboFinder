{
 "cells": [
  {
   "cell_type": "markdown",
   "id": "cd34bc06",
   "metadata": {},
   "source": [
    "\n",
    "ComboFinder\n",
    "Problem Statement:\n",
    "Find all the list of products whose sum-of-price is between 290 and 310.\n",
    "\n",
    "ProductList = {p1:10, p2:15, p3:20, p4:25, p5:30, p6:35, p7:50}"
   ]
  },
  {
   "cell_type": "code",
   "execution_count": 1,
   "id": "584bae91",
   "metadata": {},
   "outputs": [],
   "source": [
    "import random as random"
   ]
  },
  {
   "cell_type": "code",
   "execution_count": 2,
   "id": "05c776b0",
   "metadata": {},
   "outputs": [],
   "source": [
    "ProductList = {\n",
    "    f\"p{i}\": random.randint(5, 100) for i in range(1, 51)\n",
    "}"
   ]
  },
  {
   "cell_type": "code",
   "execution_count": 13,
   "id": "77bea555",
   "metadata": {},
   "outputs": [],
   "source": [
    "lower = 290\n",
    "upper = 310\n",
    "maxIter = 1000\n",
    "\n",
    "ComboList = []\n",
    "ComboSum = []"
   ]
  },
  {
   "cell_type": "code",
   "execution_count": 14,
   "id": "bd992ea0",
   "metadata": {},
   "outputs": [],
   "source": [
    "for i in range(0, maxIter):\n",
    "    ComboSize = random.randint(2, len(ProductList))\n",
    "\n",
    "    CurrCombo = random.sample(list(ProductList.keys()), ComboSize)\n",
    "    CurrSum = sum(ProductList[i] for i in CurrCombo)\n",
    "\n",
    "    if CurrSum >= lower and CurrSum <= upper:\n",
    "        ComboList.append(CurrCombo)\n",
    "        ComboSum.append(CurrSum)"
   ]
  },
  {
   "cell_type": "code",
   "execution_count": 15,
   "id": "b18e3c41",
   "metadata": {},
   "outputs": [
    {
     "name": "stdout",
     "output_type": "stream",
     "text": [
      "Combo: ['p21', 'p20', 'p14', 'p29', 'p25', 'p27'] \n",
      " Price: 305\n",
      "Combo: ['p49', 'p24', 'p34', 'p35', 'p32', 'p30'] \n",
      " Price: 294\n",
      "Combo: ['p28', 'p17', 'p48', 'p38'] \n",
      " Price: 301\n",
      "Combo: ['p16', 'p22', 'p10', 'p39', 'p35'] \n",
      " Price: 298\n",
      "Combo: ['p40', 'p31', 'p8', 'p44'] \n",
      " Price: 296\n",
      "Combo: ['p40', 'p19', 'p1', 'p13', 'p4'] \n",
      " Price: 301\n"
     ]
    }
   ],
   "source": [
    "for i in range(0, len(ComboList)):\n",
    "    print(f\"Combo: {ComboList[i]} \\n Price: {ComboSum[i]}\")"
   ]
  }
 ],
 "metadata": {
  "kernelspec": {
   "display_name": "mlworkshop",
   "language": "python",
   "name": "python3"
  },
  "language_info": {
   "codemirror_mode": {
    "name": "ipython",
    "version": 3
   },
   "file_extension": ".py",
   "mimetype": "text/x-python",
   "name": "python",
   "nbconvert_exporter": "python",
   "pygments_lexer": "ipython3",
   "version": "3.12.11"
  }
 },
 "nbformat": 4,
 "nbformat_minor": 5
}
